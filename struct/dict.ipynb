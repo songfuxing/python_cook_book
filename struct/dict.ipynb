{
 "cells": [
  {
   "cell_type": "code",
   "execution_count": 2,
   "metadata": {},
   "outputs": [
    {
     "name": "stdout",
     "output_type": "stream",
     "text": [
      "multidict dict[str->list]: defaultdict(<class 'list'>, {'a': [1, 1], 'b': [2]})\n",
      "multidict dict[str->set]: defaultdict(<class 'set'>, {'a': {1}, 'b': {2}})\n"
     ]
    }
   ],
   "source": [
    "# The initialization of multidict can be messy, especially the first value, for example, you might have code that looks like this:\n",
    "d = {}\n",
    "for key, value in {}:\n",
    "    if key not in d:\n",
    "        d[key] = []\n",
    "    else:\n",
    "        d[key].append(value)\n",
    "\n",
    "\n",
    "# so that you can use defaultdict that it automatically initializes the first value so you can samply focus on adding items, this lead to much cleaner code\n",
    "from collections import defaultdict\n",
    "\n",
    "d = defaultdict(list)\n",
    "d['a'].append(1)\n",
    "d['a'].append(1)\n",
    "d['b'].append(2)\n",
    "print(f'multidict dict[str->list]: {d}')\n",
    "\n",
    "s = defaultdict(set)\n",
    "s['a'].add(1)\n",
    "s['a'].add(1)\n",
    "s['b'].add(2)\n",
    "print(f'multidict dict[str->set]: {s}')\n",
    "\n"
   ]
  },
  {
   "cell_type": "code",
   "execution_count": 3,
   "metadata": {},
   "outputs": [
    {
     "name": "stdout",
     "output_type": "stream",
     "text": [
      "foo 1\n",
      "abb 2\n",
      "zoo -1\n"
     ]
    }
   ],
   "source": [
    "# To control the order of items in a dictionary, you can use OrderedDict from the collection module.\n",
    "from collections import OrderedDict\n",
    "\n",
    "d = OrderedDict()\n",
    "d['foo'] = 1\n",
    "d['abb'] = 2\n",
    "d['zoo'] = -1\n",
    "for key in d:\n",
    "    print(key, d[key])\n",
    "\n",
    "# An OrderedDict internally maintains a doubly linked list that orders the key according to insertion order.\n",
    "# Be aware of that the size of an OrderedDict is more than twice as large as a normal dictionary due to the extra linked list that's created"
   ]
  },
  {
   "cell_type": "code",
   "execution_count": 4,
   "metadata": {},
   "outputs": [
    {
     "data": {
      "text/plain": [
       "(10.75, 'FB')"
      ]
     },
     "execution_count": 4,
     "metadata": {},
     "output_type": "execute_result"
    }
   ],
   "source": [
    "# You want to perform various calculations on a dictionary of data\n",
    "prices = {\n",
    "    'ACME': 45.23,\n",
    "    'AAPL': 612.78,\n",
    "    'IBM': 205.55,\n",
    "    'HPQ': 37.20,\n",
    "    'FB': 10.75\n",
    "}\n",
    "# zip() invert the dictionary to a sequence of (value, key) pairs. \n",
    "import json\n",
    "dict_name_to_price = zip(prices.values(), prices.keys())\n",
    "\n",
    "# when performing comparison on such tuples(value, key), the value element is compared first, followed by the key\n",
    "min_price=min(dict_name_to_price)\n",
    "min_price\n"
   ]
  },
  {
   "cell_type": "code",
   "execution_count": 1,
   "metadata": {},
   "outputs": [
    {
     "name": "stdout",
     "output_type": "stream",
     "text": [
      "{'y', 'x'}\n",
      "{'z', 'zz'}\n",
      "{('y', 2)}\n",
      "{2}\n"
     ]
    }
   ],
   "source": [
    "# Finding Commonalities in Two Dictionaries\n",
    "a = {\n",
    "    'x': 1,\n",
    "    'y': 2,\n",
    "    'z': 3,\n",
    "    'zz': 3\n",
    "}\n",
    "\n",
    "b = {\n",
    "    'w': 10,\n",
    "    'x': 11,\n",
    "    'y': 2 \n",
    "}\n",
    "# Find keys in common\n",
    "print(a.keys() & b.keys())\n",
    "\n",
    "# Find keys in a that are not in b\n",
    "print(a.keys() - b.keys())\n",
    "\n",
    "# find (key, value) pairs in common\n",
    "print(a.items() & b.items())\n",
    "\n",
    "# the values() method of a dictionary does not support the set operations. \n",
    "# In part, this is due to the fact that unlike keys(), the values() can not be guaranteed to be unique.\n",
    "# However, if you must perform such calculations, they can be accomplished by simply converting the values to a set first\n",
    "print(set(a.values()) & set(b.values()))"
   ]
  },
  {
   "cell_type": "code",
   "execution_count": 33,
   "metadata": {},
   "outputs": [
    {
     "name": "stdout",
     "output_type": "stream",
     "text": [
      "rows_by_fname: ['Big', 'Big', 'Brian', 'David', 'John']\n",
      "rows_by_uid: [1001, 1002, 1004, 1005, 1005]\n",
      "rows_by_fname_lname: [('Big', 'Big'), ('Big', 'Jones'), ('Brian', 'Jones'), ('David', 'Beazley'), ('John', 'Cleese')]\n",
      "rows_by_fname_lambda: [{'fname': 'Big', 'lname': 'Jones', 'uid': 1004}, {'fname': 'Big', 'lname': 'Big', 'uid': 1005}, {'fname': 'Brian', 'lname': 'Jones', 'uid': 1005}, {'fname': 'David', 'lname': 'Beazley', 'uid': 1002}, {'fname': 'John', 'lname': 'Cleese', 'uid': 1001}]\n",
      "min: {'fname': 'John', 'lname': 'Cleese', 'uid': 1001}\n"
     ]
    }
   ],
   "source": [
    "# Sorting a List of Dictionaries by a Common Key\n",
    "rows = [\n",
    "    {'fname': 'Big', 'lname': 'Jones', 'uid': 1004},\n",
    "    {'fname': 'Big', 'lname': 'Big', 'uid': 1005},\n",
    "    {'fname': 'Brian', 'lname': 'Jones', 'uid': 1005},\n",
    "    {'fname': 'David', 'lname': 'Beazley', 'uid': 1002},\n",
    "    {'fname': 'John', 'lname': 'Cleese', 'uid': 1001},\n",
    "]\n",
    "\n",
    "from operator import itemgetter\n",
    "\n",
    "# The sorted function accepts a keyword argument key.This argument is expected to be a callable that \n",
    "# accept a single item from rows as input And returns a value that will be used as the basis for sorting.\n",
    "# the itemgetter() function create just such a callable\n",
    "sort_argument = ['fname']\n",
    "sorted_rows = sorted(rows, key=itemgetter(*sort_argument))\n",
    "print(f'rows_by_fname: {[k[sort_argument[0]] for k in sorted_rows]}')\n",
    "\n",
    "sort_argument = ['uid']\n",
    "sorted_rows = sorted(rows, key=itemgetter(*sort_argument))\n",
    "print(f'rows_by_uid: {[k[sort_argument[0]] for k in sorted_rows]}')\n",
    "\n",
    "# if you give a multiple indices to itemgetter(), the callable it  produce will return a tuple.\n",
    "sort_argument = ['fname', 'lname']\n",
    "sorted_rows = sorted(rows, key=itemgetter(*sort_argument))\n",
    "print(f'rows_by_fname_lname: {[(k[sort_argument[0]],k[sort_argument[1]]) for k in sorted_rows]}')\n",
    "\n",
    "# the functionality of itemgetter() is sometimes replaced by lamda expressions.\n",
    "sorted_rows = sorted(rows, key=lambda r: r[\"fname\"])\n",
    "print(f'rows_by_fname_lambda: {sorted_rows}')\n",
    "\n",
    "# the technique shown in this recipe can be applied to functions such as min(), max()\n",
    "print(f'min: {min(rows, key=itemgetter(\"uid\"))}')\n"
   ]
  },
  {
   "cell_type": "code",
   "execution_count": 37,
   "metadata": {},
   "outputs": [
    {
     "name": "stdout",
     "output_type": "stream",
     "text": [
      "[User(3), User(23), User(99)]\n",
      "[User(99), User(23), User(3)]\n"
     ]
    }
   ],
   "source": [
    "# objects sort\n",
    "class User:\n",
    "    def __init__(self, user_id):\n",
    "        self.user_id = user_id\n",
    "    def __repr__(self):\n",
    "        return f'User({self.user_id})'\n",
    "users = [User(23), User(3), User(99)]\n",
    "sorted_user = sorted(users, key=lambda u: u.user_id)\n",
    "print(sorted_user)\n",
    "\n",
    "# Instand of using lambda, an alternative approach is to use operator.attrgetter()\n",
    "from operator import attrgetter\n",
    "sorted_user_2 = sorted(users, key=attrgetter('user_id'), reverse=1)\n",
    "print(sorted_user_2)\n"
   ]
  },
  {
   "cell_type": "code",
   "execution_count": 50,
   "metadata": {},
   "outputs": [
    {
     "name": "stdout",
     "output_type": "stream",
     "text": [
      "07/01/2012\n",
      "[\"{'address': '5412 N CLARK', 'date': '07/01/2012'}\"]\n",
      "07/04/2012\n",
      "[\"{'address': '5148 N CLARK', 'date': '07/04/2012'}\"]\n",
      "07/02/2012\n",
      "[\"{'address': '5800 E 58TH', 'date': '07/02/2012'}\"]\n",
      "07/03/2012\n",
      "[\"{'address': '2122 N CLARK', 'date': '07/03/2012'}\"]\n",
      "07/02/2012\n",
      "[\"{'address': '5645 N RAVENSWOOD', 'date': '07/02/2012'}\", \"{'address': '1060 W ADDISON', 'date': '07/02/2012'}\"]\n",
      "07/01/2012\n",
      "[\"{'address': '4801 N BROADWAY', 'date': '07/01/2012'}\"]\n",
      "07/04/2012\n",
      "[\"{'address': '1039 W GRANVILLE', 'date': '07/04/2012'}\"]\n"
     ]
    }
   ],
   "source": [
    "# Grouping records together based on a field\n",
    "rows = [\n",
    "    {'address': '5412 N CLARK', 'date': '07/01/2012'},\n",
    "    {'address': '5148 N CLARK', 'date': '07/04/2012'},\n",
    "    {'address': '5800 E 58TH', 'date': '07/02/2012'},\n",
    "    {'address': '2122 N CLARK', 'date': '07/03/2012'},\n",
    "    {'address': '5645 N RAVENSWOOD', 'date': '07/02/2012'},\n",
    "    {'address': '1060 W ADDISON', 'date': '07/02/2012'},\n",
    "    {'address': '4801 N BROADWAY', 'date': '07/01/2012'},\n",
    "    {'address': '1039 W GRANVILLE', 'date': '07/04/2012'},\n",
    "]\n",
    "\n",
    "from operator import itemgetter\n",
    "from itertools import groupby\n",
    "\n",
    "# sort by the desired field first\n",
    "rows.sort(key=itemgetter('date'))\n",
    "\n",
    "# Iterate in group\n",
    "for date, items in groupby(rows, key=itemgetter('date')):\n",
    "    print(date)\n",
    "    print([f'{item}' for item in items])"
   ]
  },
  {
   "cell_type": "code",
   "execution_count": 58,
   "metadata": {},
   "outputs": [
    {
     "name": "stdout",
     "output_type": "stream",
     "text": [
      "[1, 4, 10, 2, 3]\n",
      "1\n",
      "4\n",
      "10\n",
      "2\n",
      "3\n"
     ]
    }
   ],
   "source": [
    "# Filtering sequence elements\n",
    "mylist = [1, 4, -5, 10, -7, 2, 3, -1]\n",
    "greater_zero = [n for n in mylist if n>0]\n",
    "print(greater_zero)\n",
    "\n",
    "# one potensial downside of using a list comperhension is that it may produce a large result if the original iput is large. \n",
    "# if this is a concern, you can use generator expressions to produce the filtered values\n",
    "pos = (n for n in mylist if n>0)\n",
    "for x in pos:\n",
    "    print(x)"
   ]
  },
  {
   "cell_type": "code",
   "execution_count": 68,
   "metadata": {},
   "outputs": [
    {
     "data": {
      "text/plain": [
       "Stock(name='sfx', shares=888)"
      ]
     },
     "execution_count": 68,
     "metadata": {},
     "output_type": "execute_result"
    }
   ],
   "source": [
    "# access the element by name in a sequence elements\n",
    "from collections import namedtuple\n",
    "\n",
    "# namedtuple return a subclass of the standard Python tuple type\n",
    "Subscriber = namedtuple('Subscriber', ['addr', 'joined'])\n",
    "sub = Subscriber('sfx', '2021')\n",
    "\n",
    "# unpacking by index\n",
    "join, add = sub\n",
    "\n",
    "# unpacking by name\n",
    "join, add = sub.joined, sub.addr\n",
    "\n",
    "# namedtuple is immutable. if you need to change any of the attributes, it can be done usong\n",
    "# the _replace() method of a namedtuple, which makes an entirely new namedtuple\n",
    "# convert dict to tuple, use _replace method. \n",
    "Stock = namedtuple('Stock', ['name', 'shares'])\n",
    "stock_prototype = Stock(\"\", 0)\n",
    "def dict_to_stock(s):\n",
    "    return stock_prototype._replace(**s)\n",
    "a = {\"name\": 'sfx', \"shares\": 888}\n",
    "dict_to_stock(a)"
   ]
  },
  {
   "cell_type": "code",
   "execution_count": null,
   "metadata": {},
   "outputs": [],
   "source": []
  }
 ],
 "metadata": {
  "interpreter": {
   "hash": "86832d754fd8dc590a874c06c0e3746dd17bd7d1ffed2609081fc7c877998e28"
  },
  "kernelspec": {
   "display_name": "Python 3.8.6 64-bit ('3.8.6')",
   "language": "python",
   "name": "python3"
  },
  "language_info": {
   "codemirror_mode": {
    "name": "ipython",
    "version": 3
   },
   "file_extension": ".py",
   "mimetype": "text/x-python",
   "name": "python",
   "nbconvert_exporter": "python",
   "pygments_lexer": "ipython3",
   "version": "3.8.9"
  },
  "orig_nbformat": 4
 },
 "nbformat": 4,
 "nbformat_minor": 2
}
