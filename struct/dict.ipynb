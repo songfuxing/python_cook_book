{
 "cells": [
  {
   "cell_type": "code",
   "execution_count": 2,
   "metadata": {},
   "outputs": [
    {
     "name": "stdout",
     "output_type": "stream",
     "text": [
      "multidict dict[str->list]: defaultdict(<class 'list'>, {'a': [1, 1], 'b': [2]})\n",
      "multidict dict[str->set]: defaultdict(<class 'set'>, {'a': {1}, 'b': {2}})\n"
     ]
    }
   ],
   "source": [
    "# The initialization of multidict can be messy, so that you can use defaultdict that it automatically initializes the firs value so you can samply focus on adding items\n",
    "from collections import defaultdict\n",
    "\n",
    "d = defaultdict(list)\n",
    "d['a'].append(1)\n",
    "d['a'].append(1)\n",
    "d['b'].append(2)\n",
    "print(f'multidict dict[str->list]: {d}')\n",
    "\n",
    "s = defaultdict(set)\n",
    "s['a'].add(1)\n",
    "s['a'].add(1)\n",
    "s['b'].add(2)\n",
    "print(f'multidict dict[str->set]: {s}')"
   ]
  },
  {
   "cell_type": "code",
   "execution_count": 3,
   "metadata": {},
   "outputs": [
    {
     "name": "stdout",
     "output_type": "stream",
     "text": [
      "foo 1\n",
      "abb 2\n",
      "zoo -1\n"
     ]
    }
   ],
   "source": [
    "# To control the order of items in a dictionary, you can use OrderedDict from the collection module.\n",
    "from collections import OrderedDict\n",
    "\n",
    "d = OrderedDict()\n",
    "d['foo'] = 1\n",
    "d['abb'] = 2\n",
    "d['zoo'] = -1\n",
    "for key in d:\n",
    "    print(key, d[key])\n",
    "\n",
    "# An OrderedDict internally maintains a doubly linked list that orders the key according to insertion order.\n",
    "# Be aware of that the size of an OrderedDict is more than twice as large as a normal dictionary due to the extra linked list that's created"
   ]
  },
  {
   "cell_type": "code",
   "execution_count": 4,
   "metadata": {},
   "outputs": [
    {
     "data": {
      "text/plain": [
       "(10.75, 'FB')"
      ]
     },
     "execution_count": 4,
     "metadata": {},
     "output_type": "execute_result"
    }
   ],
   "source": [
    "# You want to perform various calculations on a dictionary of data\n",
    "prices = {\n",
    "    'ACME': 45.23,\n",
    "    'AAPL': 612.78,\n",
    "    'IBM': 205.55,\n",
    "    'HPQ': 37.20,\n",
    "    'FB': 10.75\n",
    "}\n",
    "# zip() invert the dictionary to a sequence of (value, key) pairs. \n",
    "import json\n",
    "dict_name_to_price = zip(prices.values(), prices.keys())\n",
    "\n",
    "# when performing comparison on such tuples(value, key), the value element is compared first, followed by the key\n",
    "min_price=min(dict_name_to_price)\n",
    "min_price\n"
   ]
  },
  {
   "cell_type": "code",
   "execution_count": 22,
   "metadata": {},
   "outputs": [
    {
     "name": "stdout",
     "output_type": "stream",
     "text": [
      "{'y', 'x'}\n",
      "{'zz', 'z'}\n",
      "{('y', 2)}\n",
      "{2}\n"
     ]
    }
   ],
   "source": [
    "# Finding Commonalities in Two Dictionaries\n",
    "a = {\n",
    "    'x': 1,\n",
    "    'y': 2,\n",
    "    'z': 3,\n",
    "    'zz': 3\n",
    "}\n",
    "\n",
    "b = {\n",
    "    'w': 10,\n",
    "    'x': 11,\n",
    "    'y': 2 \n",
    "}\n",
    "# Find keys in common\n",
    "print(a.keys() & b.keys())\n",
    "\n",
    "# Find keys in a that are not in b\n",
    "print(a.keys() - b.keys())\n",
    "\n",
    "# find (key, value) pairs in common\n",
    "print(a.items() & b.items())\n",
    "\n",
    "# the values() method of a dictionary does not support the set operations. \n",
    "# In part, this is due to the fact that unlike keys(), the values() can not be guaranteed to be unique.\n",
    "# However, if you must perform such calculations, they can be accomplished by simply converting the values to a set first\n",
    "print(set(a.values()) & set(b.values()))"
   ]
  },
  {
   "cell_type": "code",
   "execution_count": 1,
   "metadata": {},
   "outputs": [
    {
     "data": {
      "text/plain": [
       "[{'fname': 'Big', 'lname': 'Jones', 'uid': 1004},\n",
       " {'fname': 'Brian', 'lname': 'Jones', 'uid': 1003},\n",
       " {'fname': 'David', 'lname': 'Beazley', 'uid': 1002},\n",
       " {'fname': 'John', 'lname': 'Cleese', 'uid': 1001}]"
      ]
     },
     "execution_count": 1,
     "metadata": {},
     "output_type": "execute_result"
    }
   ],
   "source": [
    "# Sorting a List of Dictionaries by a Common Key\n",
    "rows = [\n",
    "    {'fname': 'Brian', 'lname': 'Jones', 'uid': 1003},\n",
    "    {'fname': 'David', 'lname': 'Beazley', 'uid': 1002},\n",
    "    {'fname': 'John', 'lname': 'Cleese', 'uid': 1001},\n",
    "    {'fname': 'Big', 'lname': 'Jones', 'uid': 1004}\n",
    "]\n",
    "\n",
    "from operator import itemgetter\n",
    "\n",
    "# The sorted function accepts a keyword argument key.This argument is expected to be a callable that accept a single item from rows as input And returns a value that will be used as the basis for sorting.\n",
    "\n",
    "rows_by_fname = sorted(rows, key=itemgetter('fname'))\n",
    "rows_by_uid = sorted(rows, key=itemgetter('uid'))"
   ]
  },
  {
   "cell_type": "code",
   "execution_count": null,
   "metadata": {},
   "outputs": [],
   "source": []
  }
 ],
 "metadata": {
  "interpreter": {
   "hash": "86832d754fd8dc590a874c06c0e3746dd17bd7d1ffed2609081fc7c877998e28"
  },
  "kernelspec": {
   "display_name": "Python 3.8.6 64-bit ('3.8.6')",
   "language": "python",
   "name": "python3"
  },
  "language_info": {
   "codemirror_mode": {
    "name": "ipython",
    "version": 3
   },
   "file_extension": ".py",
   "mimetype": "text/x-python",
   "name": "python",
   "nbconvert_exporter": "python",
   "pygments_lexer": "ipython3",
   "version": "3.8.6"
  },
  "orig_nbformat": 4
 },
 "nbformat": 4,
 "nbformat_minor": 2
}
