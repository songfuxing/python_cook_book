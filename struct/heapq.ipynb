{
 "cells": [
  {
   "cell_type": "code",
   "execution_count": 2,
   "metadata": {},
   "outputs": [
    {
     "name": "stdout",
     "output_type": "stream",
     "text": [
      "[9, 8]\n",
      "[9, 8]\n",
      "[0, 1]\n"
     ]
    }
   ],
   "source": [
    "# Heaps are binary trees for which every parent node has a value less than or equal to any of its children\n",
    "# The implementation of this module use arrays for which heap[k] <= heap[2*k] and heap[k] <= heap[2*k+1] for all k.\n",
    "import heapq\n",
    "\n",
    "nums = [1,3,2,4,9,8,0,7]\n",
    "print(heapq.nlargest(2, nums))\n",
    "print(heapq.nlargest(2, nums))\n",
    "print(heapq.nsmallest(2, nums))"
   ]
  },
  {
   "cell_type": "code",
   "execution_count": 3,
   "metadata": {},
   "outputs": [
    {
     "name": "stdout",
     "output_type": "stream",
     "text": [
      "cheapest: [{'name': 'FB', 'price': 21.09}]\n",
      "expensive: [{'name': 'AAPL', 'price': 543}]\n"
     ]
    }
   ],
   "source": [
    "# Both functions alse accept a key parameter that allows them to be used with more complicated data structures.\n",
    "portfolio = [\n",
    "    {'name': 'IBM', 'price': 91},\n",
    "    {'name': 'AAPL', 'price': 543},\n",
    "    {'name': 'FB', 'price': 21.09},\n",
    "    {'name': 'HPQ', 'price': 31.75},\n",
    "]\n",
    "cheap = heapq.nsmallest(1, portfolio, key=lambda s: s['price'])\n",
    "expensive = heapq.nlargest(1, portfolio, key=lambda s: s['price'])\n",
    "print(f'cheapest: {cheap}')\n",
    "print(f'expensive: {expensive}')\n"
   ]
  },
  {
   "cell_type": "code",
   "execution_count": 16,
   "metadata": {},
   "outputs": [
    {
     "name": "stdout",
     "output_type": "stream",
     "text": [
      "2\n",
      "[-4, 2, 1, 23, 7, 8, 2, 23, 42, 37]\n"
     ]
    }
   ],
   "source": [
    "# if you are look for the N smallest or largest items and N is small compared to the overall size of the collection, these functions provide superior performance.\n",
    "nums = [1, 8, 2, 23, 7, -4, -18, 23, 42, 37, 2]\n",
    "\n",
    "import heapq\n",
    "# they work by first converting the data into a list where the items are ordered as a heap \n",
    "heap = list(nums)\n",
    "heapq.heapify(heap)\n",
    "\n",
    "# the most important feature of the heap is that heap[0] is always the smallest item.\n",
    "print(heap[0])\n",
    "\n",
    "# moreover, subsequent items can be easily found by using heapq.heappop() method \n",
    "heapq.heappop(heap)\n",
    "print(heap)\n"
   ]
  },
  {
   "cell_type": "code",
   "execution_count": 20,
   "metadata": {},
   "outputs": [
    {
     "name": "stdout",
     "output_type": "stream",
     "text": [
      "[-18, -4, 1, 2, 2, 7, 8, 23, 23, 37]\n",
      "[-4, 1, 2, 2, 7, 8, 23, 23, 37, 42]\n"
     ]
    }
   ],
   "source": [
    "# if you are simply trying to find a single smallest or largest item(N=1), it is faster to use max() or min()\n",
    "nums = [1, 8, 2, 23, 7, -4, -18, 23, 42, 37, 2]\n",
    "min(nums)\n",
    "\n",
    "# if N is about the same size of the collection itself, it is usually faster to sort it first and take a slice\n",
    "print(sorted(nums)[:10])\n",
    "print(sorted(nums)[-10:])"
   ]
  },
  {
   "cell_type": "code",
   "execution_count": 4,
   "metadata": {},
   "outputs": [
    {
     "name": "stdout",
     "output_type": "stream",
     "text": [
      "c\n",
      "d\n",
      "b\n",
      "a\n"
     ]
    }
   ],
   "source": [
    "# Implementing a priority Queue\n",
    "import heapq\n",
    "\n",
    "class PriorityQueue:\n",
    "    def __init__(self):\n",
    "        self._queue = []\n",
    "        self._index = 0\n",
    "\n",
    "    # In this recipe, the queue consists of tuples of the form(-priority, index, item), because item can't be compared in some case,\n",
    "    # but (priority, item) tuples can be compared as long as the priority are different, if two tuples with equal prioritys are compared,\n",
    "    # the comparision fail as before. By introducing the extra index and making (priority, index, item) tuples, you avoid this problem entirely\n",
    "    def push(self, item, priority):\n",
    "        heapq.heappush(self._queue, (-priority, self._index, item))\n",
    "        self._index += 1\n",
    "    \n",
    "    def pop(self):\n",
    "        return heapq.heappop(self._queue)[-1]\n",
    "\n",
    "q = PriorityQueue()\n",
    "q.push('a', 1)\n",
    "q.push('b', 2)\n",
    "q.push('c', 3)\n",
    "q.push('d', 3)\n",
    "print(q.pop())\n",
    "print(q.pop())\n",
    "print(q.pop())\n",
    "print(q.pop())"
   ]
  },
  {
   "cell_type": "code",
   "execution_count": 10,
   "metadata": {},
   "outputs": [
    {
     "name": "stdout",
     "output_type": "stream",
     "text": [
      "a type:<class 'set'>, {1, 3}\n",
      "b type:<class 'tuple'>, (1, 3, 3)\n"
     ]
    }
   ],
   "source": [
    "a={1,3,3}\n",
    "b=(1,3,3)\n",
    "print(f'a type:{type(a)}, {a}')\n",
    "print(f'b type:{type(b)}, {b}')"
   ]
  },
  {
   "cell_type": "code",
   "execution_count": null,
   "metadata": {},
   "outputs": [],
   "source": []
  }
 ],
 "metadata": {
  "interpreter": {
   "hash": "86832d754fd8dc590a874c06c0e3746dd17bd7d1ffed2609081fc7c877998e28"
  },
  "kernelspec": {
   "display_name": "Python 3.8.6 64-bit ('3.8.6')",
   "language": "python",
   "name": "python3"
  },
  "language_info": {
   "codemirror_mode": {
    "name": "ipython",
    "version": 3
   },
   "file_extension": ".py",
   "mimetype": "text/x-python",
   "name": "python",
   "nbconvert_exporter": "python",
   "pygments_lexer": "ipython3",
   "version": "3.8.10"
  },
  "orig_nbformat": 4
 },
 "nbformat": 4,
 "nbformat_minor": 2
}
